{
 "cells": [
  {
   "cell_type": "markdown",
   "metadata": {},
   "source": [
    "## Spotting Fake Reviews"
   ]
  },
  {
   "cell_type": "code",
   "execution_count": 47,
   "metadata": {
    "ExecuteTime": {
     "end_time": "2021-02-24T10:58:57.659830Z",
     "start_time": "2021-02-24T10:58:57.653116Z"
    }
   },
   "outputs": [],
   "source": [
    "import pandas as pd\n",
    "import numpy as np\n",
    "from wordcloud import WordCloud\n",
    "from collections import Counter\n",
    "import matplotlib.pyplot as plt\n",
    "import re\n",
    "from sklearn.feature_extraction.text import TfidfVectorizer, CountVectorizer, TfidfTransformer\n",
    "from sklearn.model_selection import train_test_split, GridSearchCV\n",
    "from sklearn.ensemble import GradientBoostingClassifier\n",
    "from sklearn.metrics import classification_report, confusion_matrix, roc_curve, auc, mean_squared_error\n",
    "from time import time\n",
    "from nltk.corpus import stopwords\n",
    "from nltk.stem import PorterStemmer\n",
    "from textblob import Word\n",
    "import nltk\n",
    "from nltk import pos_tag_sents\n",
    "from nltk.tokenize import TreebankWordTokenizer\n",
    "from scipy.interpolate import interp1d"
   ]
  },
  {
   "cell_type": "code",
   "execution_count": 61,
   "metadata": {
    "ExecuteTime": {
     "end_time": "2021-02-24T11:01:56.689313Z",
     "start_time": "2021-02-24T11:01:56.679856Z"
    }
   },
   "outputs": [],
   "source": [
    "def plot_roc_curve(y_true, y_pred, title_fontsize=22, \n",
    "                   text_fontsize=17, tick_fontsize=15, label=\"\"):\n",
    "    \"\"\"\n",
    "    Funzione che permette di rappresentare \n",
    "    la curva ROC \n",
    "    \n",
    "    \n",
    "    Parametri\n",
    "    ---------\n",
    "    \n",
    "    y_true: Formato list\n",
    "            contiene i valori osservati della y\n",
    "               \n",
    "    y_pred: formato list\n",
    "             contiene i valori predetti della y\n",
    "\n",
    "    \"\"\" \n",
    "    plt.figure(figsize=(20,6))\n",
    "    fpr, tpr, _ = roc_curve(y_true, y_pred)\n",
    "    area = auc(fpr, tpr)\n",
    "    plt.plot(fpr, tpr, lw=2, label=label)\n",
    "    plt.plot([0, 1], [0, 1], color='gray', lw=2, linestyle='--', \n",
    "             label='Random classification')\n",
    "    plt.xlim([-0.05, 1.05])\n",
    "    plt.ylim([-0.05, 1.05])\n",
    "    plt.xlabel(\"False positive rate\", fontsize=text_fontsize)\n",
    "    plt.ylabel(\"True positive rate\", fontsize=text_fontsize)\n",
    "    plt.tick_params(labelsize=tick_fontsize)\n",
    "    plt.legend(loc='lower right', fontsize=text_fontsize, shadow=True)\n",
    "    plt.title(\"ROC Curve, area = {:.3f}\".format(area), \n",
    "              fontsize=title_fontsize)"
   ]
  },
  {
   "cell_type": "markdown",
   "metadata": {},
   "source": [
    "## Import Dataset"
   ]
  },
  {
   "cell_type": "markdown",
   "metadata": {},
   "source": [
    "The dataset contains 1600 reviews that can be differentiate in 4 subsets:\n",
    "1. Truthful – positive polarity\n",
    "2. Fake – positive polarity\n",
    "3. Truthful – negative polarity\n",
    "4. Fake – negative polarity  "
   ]
  },
  {
   "cell_type": "code",
   "execution_count": 3,
   "metadata": {
    "ExecuteTime": {
     "end_time": "2021-02-24T10:37:01.523463Z",
     "start_time": "2021-02-24T10:37:01.491555Z"
    }
   },
   "outputs": [],
   "source": [
    "data = pd.read_json('./op_spam_v1.4.json')"
   ]
  },
  {
   "cell_type": "code",
   "execution_count": 34,
   "metadata": {
    "ExecuteTime": {
     "end_time": "2021-02-24T10:49:18.383291Z",
     "start_time": "2021-02-24T10:49:18.269746Z"
    }
   },
   "outputs": [
    {
     "data": {
      "text/html": [
       "<div>\n",
       "<style scoped>\n",
       "    .dataframe tbody tr th:only-of-type {\n",
       "        vertical-align: middle;\n",
       "    }\n",
       "\n",
       "    .dataframe tbody tr th {\n",
       "        vertical-align: top;\n",
       "    }\n",
       "\n",
       "    .dataframe thead th {\n",
       "        text-align: right;\n",
       "    }\n",
       "</style>\n",
       "<table border=\"1\" class=\"dataframe\">\n",
       "  <thead>\n",
       "    <tr style=\"text-align: right;\">\n",
       "      <th></th>\n",
       "      <th>file</th>\n",
       "      <th>description</th>\n",
       "      <th>text</th>\n",
       "      <th>truth</th>\n",
       "      <th>polarity</th>\n",
       "      <th>lowercase</th>\n",
       "      <th>removing punctuation</th>\n",
       "      <th>removal stopwords</th>\n",
       "      <th>stemming</th>\n",
       "      <th>lemmatization</th>\n",
       "      <th>tokenization</th>\n",
       "      <th>POS</th>\n",
       "    </tr>\n",
       "  </thead>\n",
       "  <tbody>\n",
       "    <tr>\n",
       "      <th>0</th>\n",
       "      <td>/negative_polarity/deceptive_from_MTurk/fold1/...</td>\n",
       "      <td>hilton_1</td>\n",
       "      <td>We stayed at the Schicago Hilton for 4 days an...</td>\n",
       "      <td>False</td>\n",
       "      <td>False</td>\n",
       "      <td>we stayed at the schicago hilton for 4 days an...</td>\n",
       "      <td>we stayed at the schicago hilton for 4 days an...</td>\n",
       "      <td>stayed schicago hilton 4 days 3 nights confere...</td>\n",
       "      <td>stay schicago hilton 4 day 3 night confer say ...</td>\n",
       "      <td>stay schicago hilton 4 day 3 night confer say ...</td>\n",
       "      <td>[We, stayed, at, the, Schicago, Hilton, for, 4...</td>\n",
       "      <td>[(We, PRP), (stayed, VBD), (at, IN), (the, DT)...</td>\n",
       "    </tr>\n",
       "    <tr>\n",
       "      <th>1</th>\n",
       "      <td>/negative_polarity/deceptive_from_MTurk/fold1/...</td>\n",
       "      <td>hilton_10</td>\n",
       "      <td>Hotel is located 1/2 mile from the train stati...</td>\n",
       "      <td>False</td>\n",
       "      <td>False</td>\n",
       "      <td>hotel is located 1/2 mile from the train stati...</td>\n",
       "      <td>hotel is located 12 mile from the train statio...</td>\n",
       "      <td>hotel located 12 mile train station quite hike...</td>\n",
       "      <td>hotel locat 12 mile train station quit hike yo...</td>\n",
       "      <td>hotel locat 12 mile train station quit hike yo...</td>\n",
       "      <td>[Hotel, is, located, 1/2, mile, from, the, tra...</td>\n",
       "      <td>[(Hotel, NN), (is, VBZ), (located, VBN), (1/2,...</td>\n",
       "    </tr>\n",
       "    <tr>\n",
       "      <th>2</th>\n",
       "      <td>/negative_polarity/deceptive_from_MTurk/fold1/...</td>\n",
       "      <td>hilton_11</td>\n",
       "      <td>I made my reservation at the Hilton Chicago be...</td>\n",
       "      <td>False</td>\n",
       "      <td>False</td>\n",
       "      <td>i made my reservation at the hilton chicago be...</td>\n",
       "      <td>i made my reservation at the hilton chicago be...</td>\n",
       "      <td>made reservation hilton chicago believing goin...</td>\n",
       "      <td>made reserv hilton chicago believ go stay clas...</td>\n",
       "      <td>made reserv hilton chicago believ go stay clas...</td>\n",
       "      <td>[I, made, my, reservation, at, the, Hilton, Ch...</td>\n",
       "      <td>[(I, PRP), (made, VBD), (my, PRP$), (reservati...</td>\n",
       "    </tr>\n",
       "    <tr>\n",
       "      <th>3</th>\n",
       "      <td>/negative_polarity/deceptive_from_MTurk/fold1/...</td>\n",
       "      <td>hilton_12</td>\n",
       "      <td>When most people think Hilton, they think luxu...</td>\n",
       "      <td>False</td>\n",
       "      <td>False</td>\n",
       "      <td>when most people think hilton, they think luxu...</td>\n",
       "      <td>when most people think hilton they think luxur...</td>\n",
       "      <td>people think hilton think luxury know wish id ...</td>\n",
       "      <td>peopl think hilton think luxuri know wish id h...</td>\n",
       "      <td>peopl think hilton think luxuri know wish id h...</td>\n",
       "      <td>[When, most, people, think, Hilton, ,, they, t...</td>\n",
       "      <td>[(When, WRB), (most, JJS), (people, NNS), (thi...</td>\n",
       "    </tr>\n",
       "    <tr>\n",
       "      <th>4</th>\n",
       "      <td>/negative_polarity/deceptive_from_MTurk/fold1/...</td>\n",
       "      <td>hilton_13</td>\n",
       "      <td>My husband and I recently stayed stayed at the...</td>\n",
       "      <td>False</td>\n",
       "      <td>False</td>\n",
       "      <td>my husband and i recently stayed stayed at the...</td>\n",
       "      <td>my husband and i recently stayed stayed at the...</td>\n",
       "      <td>husband recently stayed stayed hilton chicago ...</td>\n",
       "      <td>husband recent stay stay hilton chicago horrib...</td>\n",
       "      <td>husband recent stay stay hilton chicago horrib...</td>\n",
       "      <td>[My, husband, and, I, recently, stayed, stayed...</td>\n",
       "      <td>[(My, PRP$), (husband, NN), (and, CC), (I, PRP...</td>\n",
       "    </tr>\n",
       "  </tbody>\n",
       "</table>\n",
       "</div>"
      ],
      "text/plain": [
       "                                                file description  \\\n",
       "0  /negative_polarity/deceptive_from_MTurk/fold1/...    hilton_1   \n",
       "1  /negative_polarity/deceptive_from_MTurk/fold1/...   hilton_10   \n",
       "2  /negative_polarity/deceptive_from_MTurk/fold1/...   hilton_11   \n",
       "3  /negative_polarity/deceptive_from_MTurk/fold1/...   hilton_12   \n",
       "4  /negative_polarity/deceptive_from_MTurk/fold1/...   hilton_13   \n",
       "\n",
       "                                                text  truth  polarity  \\\n",
       "0  We stayed at the Schicago Hilton for 4 days an...  False     False   \n",
       "1  Hotel is located 1/2 mile from the train stati...  False     False   \n",
       "2  I made my reservation at the Hilton Chicago be...  False     False   \n",
       "3  When most people think Hilton, they think luxu...  False     False   \n",
       "4  My husband and I recently stayed stayed at the...  False     False   \n",
       "\n",
       "                                           lowercase  \\\n",
       "0  we stayed at the schicago hilton for 4 days an...   \n",
       "1  hotel is located 1/2 mile from the train stati...   \n",
       "2  i made my reservation at the hilton chicago be...   \n",
       "3  when most people think hilton, they think luxu...   \n",
       "4  my husband and i recently stayed stayed at the...   \n",
       "\n",
       "                                removing punctuation  \\\n",
       "0  we stayed at the schicago hilton for 4 days an...   \n",
       "1  hotel is located 12 mile from the train statio...   \n",
       "2  i made my reservation at the hilton chicago be...   \n",
       "3  when most people think hilton they think luxur...   \n",
       "4  my husband and i recently stayed stayed at the...   \n",
       "\n",
       "                                   removal stopwords  \\\n",
       "0  stayed schicago hilton 4 days 3 nights confere...   \n",
       "1  hotel located 12 mile train station quite hike...   \n",
       "2  made reservation hilton chicago believing goin...   \n",
       "3  people think hilton think luxury know wish id ...   \n",
       "4  husband recently stayed stayed hilton chicago ...   \n",
       "\n",
       "                                            stemming  \\\n",
       "0  stay schicago hilton 4 day 3 night confer say ...   \n",
       "1  hotel locat 12 mile train station quit hike yo...   \n",
       "2  made reserv hilton chicago believ go stay clas...   \n",
       "3  peopl think hilton think luxuri know wish id h...   \n",
       "4  husband recent stay stay hilton chicago horrib...   \n",
       "\n",
       "                                       lemmatization  \\\n",
       "0  stay schicago hilton 4 day 3 night confer say ...   \n",
       "1  hotel locat 12 mile train station quit hike yo...   \n",
       "2  made reserv hilton chicago believ go stay clas...   \n",
       "3  peopl think hilton think luxuri know wish id h...   \n",
       "4  husband recent stay stay hilton chicago horrib...   \n",
       "\n",
       "                                        tokenization  \\\n",
       "0  [We, stayed, at, the, Schicago, Hilton, for, 4...   \n",
       "1  [Hotel, is, located, 1/2, mile, from, the, tra...   \n",
       "2  [I, made, my, reservation, at, the, Hilton, Ch...   \n",
       "3  [When, most, people, think, Hilton, ,, they, t...   \n",
       "4  [My, husband, and, I, recently, stayed, stayed...   \n",
       "\n",
       "                                                 POS  \n",
       "0  [(We, PRP), (stayed, VBD), (at, IN), (the, DT)...  \n",
       "1  [(Hotel, NN), (is, VBZ), (located, VBN), (1/2,...  \n",
       "2  [(I, PRP), (made, VBD), (my, PRP$), (reservati...  \n",
       "3  [(When, WRB), (most, JJS), (people, NNS), (thi...  \n",
       "4  [(My, PRP$), (husband, NN), (and, CC), (I, PRP...  "
      ]
     },
     "execution_count": 34,
     "metadata": {},
     "output_type": "execute_result"
    }
   ],
   "source": [
    "data.head()"
   ]
  },
  {
   "cell_type": "code",
   "execution_count": 38,
   "metadata": {
    "ExecuteTime": {
     "end_time": "2021-02-24T10:57:24.238862Z",
     "start_time": "2021-02-24T10:57:24.234416Z"
    }
   },
   "outputs": [],
   "source": [
    "y = data['truth'].tolist()\n",
    "for x in y:\n",
    "    if x == True:\n",
    "        x = 1\n",
    "    if x == False:\n",
    "        x = 0"
   ]
  },
  {
   "cell_type": "markdown",
   "metadata": {},
   "source": [
    "## Data processing"
   ]
  },
  {
   "cell_type": "markdown",
   "metadata": {},
   "source": [
    "Lowercase: A --> a"
   ]
  },
  {
   "cell_type": "code",
   "execution_count": 4,
   "metadata": {
    "ExecuteTime": {
     "end_time": "2021-02-24T10:37:05.396743Z",
     "start_time": "2021-02-24T10:37:05.333147Z"
    }
   },
   "outputs": [
    {
     "name": "stdout",
     "output_type": "stream",
     "text": [
      "0    we stayed at the schicago hilton for 4 days an...\n",
      "1    hotel is located 1/2 mile from the train stati...\n",
      "2    i made my reservation at the hilton chicago be...\n",
      "3    when most people think hilton, they think luxu...\n",
      "4    my husband and i recently stayed stayed at the...\n",
      "Name: lowercase, dtype: object\n"
     ]
    }
   ],
   "source": [
    "data['lowercase'] = data['text'].apply(lambda x: \" \".join(x.lower() for x in x.split()))\n",
    "#data['text'] = data['text'].apply(lambda x: \" \".join(x.lower() for x in x.split()))\n",
    "print(data['lowercase'].head())"
   ]
  },
  {
   "cell_type": "markdown",
   "metadata": {},
   "source": [
    "Removing punctuation"
   ]
  },
  {
   "cell_type": "code",
   "execution_count": 6,
   "metadata": {
    "ExecuteTime": {
     "end_time": "2021-02-24T10:37:15.992461Z",
     "start_time": "2021-02-24T10:37:15.951815Z"
    }
   },
   "outputs": [
    {
     "name": "stdout",
     "output_type": "stream",
     "text": [
      "0    we stayed at the schicago hilton for 4 days an...\n",
      "1    hotel is located 12 mile from the train statio...\n",
      "2    i made my reservation at the hilton chicago be...\n",
      "3    when most people think hilton they think luxur...\n",
      "4    my husband and i recently stayed stayed at the...\n",
      "Name: removing punctuation, dtype: object\n"
     ]
    }
   ],
   "source": [
    "data['removing punctuation'] = data['lowercase'].str.replace('[^\\w\\s]','')\n",
    "#data['text'] = data['text'].str.replace('[^\\w\\s]','')\n",
    "print(data['removing punctuation'].head())"
   ]
  },
  {
   "cell_type": "markdown",
   "metadata": {},
   "source": [
    "Removal stopwords: words which not contain enough significance like (in, which, with, a...)"
   ]
  },
  {
   "cell_type": "code",
   "execution_count": 11,
   "metadata": {
    "ExecuteTime": {
     "end_time": "2021-02-24T10:38:24.585594Z",
     "start_time": "2021-02-24T10:38:24.234293Z"
    }
   },
   "outputs": [
    {
     "name": "stdout",
     "output_type": "stream",
     "text": [
      "0    stayed schicago hilton 4 days 3 nights confere...\n",
      "1    hotel located 12 mile train station quite hike...\n",
      "2    made reservation hilton chicago believing goin...\n",
      "3    people think hilton think luxury know wish id ...\n",
      "4    husband recently stayed stayed hilton chicago ...\n",
      "Name: removal stopwords, dtype: object\n"
     ]
    }
   ],
   "source": [
    "stop = stopwords.words('english')\n",
    "data['removal stopwords'] = data['removing punctuation'].apply(lambda x: \" \".join(x for x in x.split() if x not in stop))\n",
    "#data['text'] = data['text'].apply(lambda x: \" \".join(x for x in x.split() if x not in stop))\n",
    "print(data['removal stopwords'].head())"
   ]
  },
  {
   "cell_type": "markdown",
   "metadata": {},
   "source": [
    "Stemming: cutting the prefixes or the suffixes"
   ]
  },
  {
   "cell_type": "code",
   "execution_count": 14,
   "metadata": {
    "ExecuteTime": {
     "end_time": "2021-02-24T10:39:52.159067Z",
     "start_time": "2021-02-24T10:39:49.973127Z"
    }
   },
   "outputs": [
    {
     "name": "stdout",
     "output_type": "stream",
     "text": [
      "0    stay schicago hilton 4 day 3 night confer say ...\n",
      "1    hotel locat 12 mile train station quit hike yo...\n",
      "2    made reserv hilton chicago believ go stay clas...\n",
      "3    peopl think hilton think luxuri know wish id h...\n",
      "4    husband recent stay stay hilton chicago horrib...\n",
      "Name: stemming, dtype: object\n"
     ]
    }
   ],
   "source": [
    "st = PorterStemmer()\n",
    "data['stemming'] = data['removal stopwords'].apply(lambda x: \" \".join([st.stem(word) for word in x.split()]))\n",
    "#data['text'] = data['text'].apply(lambda x: \" \".join([st.stem(word) for word in x.split()]))\n",
    "print(data['stemming'].head())"
   ]
  },
  {
   "cell_type": "markdown",
   "metadata": {},
   "source": [
    "Lemmanization: morphological analysis of the words that are replaced by the lemma found in a dictionary (studying = study)"
   ]
  },
  {
   "cell_type": "code",
   "execution_count": 17,
   "metadata": {
    "ExecuteTime": {
     "end_time": "2021-02-24T10:42:46.418080Z",
     "start_time": "2021-02-24T10:42:44.456851Z"
    }
   },
   "outputs": [
    {
     "name": "stdout",
     "output_type": "stream",
     "text": [
      "0    stay schicago hilton 4 day 3 night confer say ...\n",
      "1    hotel locat 12 mile train station quit hike yo...\n",
      "2    made reserv hilton chicago believ go stay clas...\n",
      "3    peopl think hilton think luxuri know wish id h...\n",
      "4    husband recent stay stay hilton chicago horrib...\n",
      "Name: lemmatization, dtype: object\n"
     ]
    }
   ],
   "source": [
    "data['lemmatization'] = data['stemming'].apply(lambda x: \" \".join([Word(word).lemmatize() for word in x.split()]))\n",
    "#data['text'] = data['text'].apply(lambda x: \" \".join([Word(word).lemmatize() for word in x.split()]))\n",
    "print(data['lemmatization'].head())"
   ]
  },
  {
   "cell_type": "markdown",
   "metadata": {},
   "source": [
    "Tokenization: process of segmenting running text into words and sentences"
   ]
  },
  {
   "cell_type": "code",
   "execution_count": 20,
   "metadata": {
    "ExecuteTime": {
     "end_time": "2021-02-24T10:43:14.835134Z",
     "start_time": "2021-02-24T10:43:13.126627Z"
    }
   },
   "outputs": [
    {
     "name": "stdout",
     "output_type": "stream",
     "text": [
      "0    [We, stayed, at, the, Schicago, Hilton, for, 4...\n",
      "1    [Hotel, is, located, 1/2, mile, from, the, tra...\n",
      "2    [I, made, my, reservation, at, the, Hilton, Ch...\n",
      "3    [When, most, people, think, Hilton, ,, they, t...\n",
      "4    [My, husband, and, I, recently, stayed, stayed...\n",
      "Name: tokenization, dtype: object\n"
     ]
    }
   ],
   "source": [
    "data['tokenization'] = data.apply(lambda x: nltk.word_tokenize(x['text']), axis=1)\n",
    "#data['text'] = data.apply(lambda x: nltk.word_tokenize(x['text']), axis=1)\n",
    "print(data['tokenization'].head())"
   ]
  },
  {
   "cell_type": "markdown",
   "metadata": {},
   "source": [
    "Tagged Tokens: assign part of the speech to each word such noum, pronoum, adjective…"
   ]
  },
  {
   "cell_type": "code",
   "execution_count": 25,
   "metadata": {
    "ExecuteTime": {
     "end_time": "2021-02-24T10:47:02.472271Z",
     "start_time": "2021-02-24T10:46:54.873635Z"
    }
   },
   "outputs": [
    {
     "name": "stdout",
     "output_type": "stream",
     "text": [
      "0    [(We, PRP), (stayed, VBD), (at, IN), (the, DT)...\n",
      "1    [(Hotel, NN), (is, VBZ), (located, VBN), (1/2,...\n",
      "2    [(I, PRP), (made, VBD), (my, PRP$), (reservati...\n",
      "3    [(When, WRB), (most, JJS), (people, NNS), (thi...\n",
      "4    [(My, PRP$), (husband, NN), (and, CC), (I, PRP...\n",
      "Name: POS, dtype: object\n"
     ]
    }
   ],
   "source": [
    "data['POS'] = pos_tag_sents(data['tokenization'])\n",
    "print(data['POS'].head())"
   ]
  },
  {
   "cell_type": "code",
   "execution_count": 27,
   "metadata": {
    "ExecuteTime": {
     "end_time": "2021-02-24T10:47:05.466733Z",
     "start_time": "2021-02-24T10:47:05.203954Z"
    }
   },
   "outputs": [
    {
     "data": {
      "image/png": "[encoded data removed]",
      "text/plain": [
       "<Figure size 432x288 with 1 Axes>"
      ]
     },
     "metadata": {},
     "output_type": "display_data"
    }
   ],
   "source": [
    "count = {}\n",
    "for tuples in data['POS']:\n",
    "    for tuplea in tuples:\n",
    "        count[tuplea[1]] = count.get(tuplea[1], 0) + 1\n",
    "        \n",
    "\n",
    "inds = np.where(np.array(list(count.values())) > 1000)[0]\n",
    "\n",
    "tags = np.array(list(count.keys()))[inds]\n",
    "freqs = np.array(list(count.values()))[inds]\n",
    "\n",
    "plt.pie(freqs, labels = tags, radius=2)\n",
    "plt.show()"
   ]
  },
  {
   "cell_type": "markdown",
   "metadata": {},
   "source": [
    "Legend: NN: Noun, singular or mass; MD Modal; VB: Verb, base form; IN: Preposition or subordinating conjunction; JJ: Adjective; VBP: Verb, non-3rd person singular present; NNS: Noun, plural; CD: Cardinal number; VBD: Verb, past tense; RB: Adverb."
   ]
  },
  {
   "cell_type": "markdown",
   "metadata": {},
   "source": [
    "#### Count Vectorizer"
   ]
  },
  {
   "cell_type": "code",
   "execution_count": 30,
   "metadata": {
    "ExecuteTime": {
     "end_time": "2021-02-24T10:47:31.718749Z",
     "start_time": "2021-02-24T10:47:31.710499Z"
    }
   },
   "outputs": [
    {
     "data": {
      "text/plain": [
       "CountVectorizer(analyzer='word', binary=False, decode_error='strict',\n",
       "                dtype=<class 'numpy.int64'>, encoding='utf-8', input='content',\n",
       "                lowercase=True, max_df=0.5, max_features=1000, min_df=2,\n",
       "                ngram_range=(1, 2), preprocessor=None, stop_words='english',\n",
       "                strip_accents=None, token_pattern='(?u)\\\\b\\\\w\\\\w+\\\\b',\n",
       "                tokenizer=<bound method TreebankWordTokenizer.tokenize of <nltk.tokenize.treebank.TreebankWordTokenizer object at 0x1a2acd6290>>,\n",
       "                vocabulary=None)"
      ]
     },
     "execution_count": 30,
     "metadata": {},
     "output_type": "execute_result"
    }
   ],
   "source": [
    "count_v = CountVectorizer(max_features=1000, lowercase=True, analyzer ='word')\n",
    "tokenizer = TreebankWordTokenizer()\n",
    "\n",
    "#tokenize\n",
    "count_v.set_params(tokenizer=tokenizer.tokenize)\n",
    "# remove English stop words\n",
    "count_v.set_params(stop_words='english')\n",
    "# include 1-grams and 2-grams\n",
    "count_v.set_params(ngram_range=(1, 2))\n",
    "# ignore terms that appear in more than 50% of the documents\n",
    "count_v.set_params(max_df=0.5)\n",
    "# only keep terms that appear in at least 2 documents\n",
    "count_v.set_params(min_df=2)"
   ]
  },
  {
   "cell_type": "markdown",
   "metadata": {},
   "source": [
    "#### TF-IDF"
   ]
  },
  {
   "cell_type": "code",
   "execution_count": 31,
   "metadata": {
    "ExecuteTime": {
     "end_time": "2021-02-24T10:47:34.036409Z",
     "start_time": "2021-02-24T10:47:34.027881Z"
    }
   },
   "outputs": [
    {
     "data": {
      "text/plain": [
       "TfidfVectorizer(analyzer='word', binary=False, decode_error='strict',\n",
       "                dtype=<class 'numpy.float64'>, encoding='utf-8',\n",
       "                input='content', lowercase=True, max_df=0.5, max_features=1000,\n",
       "                min_df=2, ngram_range=(1, 2), norm='l2', preprocessor=None,\n",
       "                smooth_idf=True, stop_words='english', strip_accents=None,\n",
       "                sublinear_tf=False, token_pattern='(?u)\\\\b\\\\w\\\\w+\\\\b',\n",
       "                tokenizer=<bound method TreebankWordTokenizer.tokenize of <nltk.tokenize.treebank.TreebankWordTokenizer object at 0x1a1d8e2e90>>,\n",
       "                use_idf=True, vocabulary=None)"
      ]
     },
     "execution_count": 31,
     "metadata": {},
     "output_type": "execute_result"
    }
   ],
   "source": [
    "tf_idf = vect = TfidfVectorizer(max_features=1000, lowercase=True, analyzer='word')\n",
    "tokenizer = TreebankWordTokenizer()\n",
    "\n",
    "#tokenize\n",
    "tf_idf.set_params(tokenizer=tokenizer.tokenize)\n",
    "# remove English stop words\n",
    "tf_idf.set_params(stop_words='english')\n",
    "# include 1-grams and 2-grams\n",
    "tf_idf.set_params(ngram_range=(1, 2))\n",
    "# ignore terms that appear in more than 50% of the documents\n",
    "tf_idf.set_params(max_df=0.5)\n",
    "# only keep terms that appear in at least 2 documents\n",
    "tf_idf.set_params(min_df=2) "
   ]
  },
  {
   "cell_type": "markdown",
   "metadata": {},
   "source": [
    "## Recall of Datasets for Count Vectorizer"
   ]
  },
  {
   "cell_type": "code",
   "execution_count": 39,
   "metadata": {
    "ExecuteTime": {
     "end_time": "2021-02-24T10:57:52.908224Z",
     "start_time": "2021-02-24T10:57:52.212106Z"
    }
   },
   "outputs": [],
   "source": [
    "X_count_v = count_v.fit_transform(data['lemmatization'])\n",
    "#y = fl.pickle_load('*/y.pkl')"
   ]
  },
  {
   "cell_type": "code",
   "execution_count": 40,
   "metadata": {
    "ExecuteTime": {
     "end_time": "2021-02-24T10:57:54.215724Z",
     "start_time": "2021-02-24T10:57:53.579804Z"
    }
   },
   "outputs": [
    {
     "name": "stdout",
     "output_type": "stream",
     "text": [
      "[[0 0 0 ... 0 1 0]\n",
      " [0 0 0 ... 0 0 0]\n",
      " [0 0 0 ... 0 0 0]\n",
      " ...\n",
      " [0 0 1 ... 0 2 0]\n",
      " [0 0 0 ... 0 0 0]\n",
      " [0 0 0 ... 0 0 0]]\n"
     ]
    }
   ],
   "source": [
    "print(count_v.fit_transform(data['lemmatization']).todense())"
   ]
  },
  {
   "cell_type": "markdown",
   "metadata": {},
   "source": [
    "## Recall of Datasets for TF-IDF"
   ]
  },
  {
   "cell_type": "code",
   "execution_count": 41,
   "metadata": {
    "ExecuteTime": {
     "end_time": "2021-02-24T10:57:57.944933Z",
     "start_time": "2021-02-24T10:57:57.272507Z"
    }
   },
   "outputs": [],
   "source": [
    "X_tf_idf = tf_idf.fit_transform(data['lemmatization'])\n",
    "#y = fl.pickle_load('*/y.pkl')"
   ]
  },
  {
   "cell_type": "code",
   "execution_count": 42,
   "metadata": {
    "ExecuteTime": {
     "end_time": "2021-02-24T10:57:58.847927Z",
     "start_time": "2021-02-24T10:57:58.161556Z"
    }
   },
   "outputs": [
    {
     "name": "stdout",
     "output_type": "stream",
     "text": [
      "[[0.         0.         0.         ... 0.         0.08932029 0.        ]\n",
      " [0.         0.         0.         ... 0.         0.         0.        ]\n",
      " [0.         0.         0.         ... 0.         0.         0.        ]\n",
      " ...\n",
      " [0.         0.         0.26548595 ... 0.         0.37756665 0.        ]\n",
      " [0.         0.         0.         ... 0.         0.         0.        ]\n",
      " [0.         0.         0.         ... 0.         0.         0.        ]]\n"
     ]
    }
   ],
   "source": [
    "print(tf_idf.fit_transform(data['lemmatization']).todense())"
   ]
  },
  {
   "cell_type": "markdown",
   "metadata": {},
   "source": [
    "## Division of the sets"
   ]
  },
  {
   "cell_type": "code",
   "execution_count": 43,
   "metadata": {
    "ExecuteTime": {
     "end_time": "2021-02-24T10:58:02.899999Z",
     "start_time": "2021-02-24T10:58:02.889424Z"
    }
   },
   "outputs": [],
   "source": [
    "X_train_count_v, X_test_count_v, y_train_count_v, y_test_count_v = train_test_split(X_count_v, y, \n",
    "                                                                                    random_state=0, test_size=0.4)\n",
    "\n",
    "X_train_tf_idf, X_test_tf_idf, y_train_tf_idf, y_test_tf_idf = train_test_split(X_tf_idf, y, \n",
    "                                                                                random_state=0, test_size=0.4)\n"
   ]
  },
  {
   "cell_type": "code",
   "execution_count": 44,
   "metadata": {
    "ExecuteTime": {
     "end_time": "2021-02-24T10:58:03.258333Z",
     "start_time": "2021-02-24T10:58:03.251685Z"
    }
   },
   "outputs": [],
   "source": [
    "X_train_sub_count_v, X_validation_sub_count_v, y_train_sub_count_v, y_validation_sub_count_v = train_test_split(X_test_count_v, y_test_count_v, random_state=0, test_size=0.5)\n",
    "\n",
    "X_train_sub_tf_idf, X_validation_sub_tf_idf, y_train_sub_tf_idf, y_validation_sub_tf_idf = train_test_split(X_test_tf_idf, y_test_tf_idf, random_state=0, test_size=0.5)\n"
   ]
  },
  {
   "cell_type": "markdown",
   "metadata": {},
   "source": [
    "## GRID_SEARCH n_estimator and learning_rate (Count Vectorized transformation in GradientBoostingClassifier model)"
   ]
  },
  {
   "cell_type": "code",
   "execution_count": 45,
   "metadata": {
    "ExecuteTime": {
     "end_time": "2021-02-24T10:58:41.125893Z",
     "start_time": "2021-02-24T10:58:40.048995Z"
    }
   },
   "outputs": [],
   "source": [
    "training_list_count_v = []\n",
    "test_list_count_v = []\n",
    "validation_list_count_v = []\n",
    "learning_rates = [0.05, 0.1, 0.2, 0.25, 0.3, 0.4, 0.5, 0.6, 0.7, 0.75, 0.8, 0.9, 1]\n",
    "for learning_rate in learning_rates:\n",
    "    gb = GradientBoostingClassifier(n_estimators=100, learning_rate=learning_rate, \n",
    "                                    max_features=4, max_depth=2, random_state=0)\n",
    "    gb.fit(X_train_count_v, y_train_count_v)\n",
    "    #print(\"Learning rate: \", learning_rate)\n",
    "    #print(\"Accuracy score (training): {0:.3f}\".format(gb.score(X_train_count_v, y_train_count_v)))\n",
    "    training_list_count_v.append(gb.score(X_train_count_v, y_train_count_v))\n",
    "    #print(\"Accuracy score (test): {0:.3f}\".format(gb.score(X_test_count_v, y_test_count_v)))\n",
    "    test_list_count_v.append(gb.score(X_test_count_v, y_test_count_v))\n",
    "    #print(\"Accuracy score (validation): {0:.3f}\".format(gb.score(X_validation_sub_count_v, y_validation_sub_count_v)))\n",
    "    validation_list_count_v.append(gb.score(X_validation_sub_count_v, y_validation_sub_count_v))\n",
    "    #print()"
   ]
  },
  {
   "cell_type": "markdown",
   "metadata": {},
   "source": [
    "## Plotting"
   ]
  },
  {
   "cell_type": "code",
   "execution_count": 48,
   "metadata": {
    "ExecuteTime": {
     "end_time": "2021-02-24T10:59:03.869015Z",
     "start_time": "2021-02-24T10:59:03.172140Z"
    }
   },
   "outputs": [
    {
     "name": "stdout",
     "output_type": "stream",
     "text": [
      "Accuracy of training set over learning rate increment\n"
     ]
    },
    {
     "data": {
      "text/plain": [
       "Text(0.5, 1.0, 'Training set')"
      ]
     },
     "execution_count": 48,
     "metadata": {},
     "output_type": "execute_result"
    },
    {
     "data": {
      "image/png": "[encoded data removed]",
      "text/plain": [
       "<Figure size 432x288 with 1 Axes>"
      ]
     },
     "metadata": {
      "needs_background": "light"
     },
     "output_type": "display_data"
    }
   ],
   "source": [
    "print('Accuracy of training set over learning rate increment')\n",
    "fig_training = plt.figure()\n",
    "fig_training = plt.scatter(learning_rates, training_list_count_v)\n",
    "x_new = np.linspace(min(learning_rates), max(learning_rates),500)\n",
    "f = interp1d(learning_rates, training_list_count_v, kind='quadratic')\n",
    "y_smooth=f(x_new)\n",
    "plt.plot (x_new, y_smooth)\n",
    "plt.scatter (learning_rates, training_list_count_v)\n",
    "plt.xlabel('Learning Rate')\n",
    "plt.ylabel('Value')\n",
    "plt.title('Training set')"
   ]
  },
  {
   "cell_type": "code",
   "execution_count": 49,
   "metadata": {
    "ExecuteTime": {
     "end_time": "2021-02-24T10:59:06.227331Z",
     "start_time": "2021-02-24T10:59:06.045004Z"
    }
   },
   "outputs": [
    {
     "name": "stdout",
     "output_type": "stream",
     "text": [
      "Accuracy of test set over learning rate increment\n"
     ]
    },
    {
     "data": {
      "text/plain": [
       "Text(0.5, 1.0, 'Test set')"
      ]
     },
     "execution_count": 49,
     "metadata": {},
     "output_type": "execute_result"
    },
    {
     "data": {
      "image/png": "[encoded data removed]",
      "text/plain": [
       "<Figure size 432x288 with 1 Axes>"
      ]
     },
     "metadata": {
      "needs_background": "light"
     },
     "output_type": "display_data"
    }
   ],
   "source": [
    "print('Accuracy of test set over learning rate increment')\n",
    "fig_test = plt.figure()\n",
    "fig_test = plt.scatter(learning_rates, test_list_count_v)\n",
    "x_new = np.linspace(min(learning_rates), max(learning_rates),500)\n",
    "f = interp1d(learning_rates, test_list_count_v, kind='quadratic')\n",
    "y_smooth=f(x_new)\n",
    "plt.plot (x_new, y_smooth)\n",
    "plt.scatter (learning_rates, test_list_count_v)\n",
    "plt.xlabel('Learning Rate')\n",
    "plt.ylabel('Value')\n",
    "plt.title('Test set')"
   ]
  },
  {
   "cell_type": "code",
   "execution_count": 50,
   "metadata": {
    "ExecuteTime": {
     "end_time": "2021-02-24T10:59:09.624063Z",
     "start_time": "2021-02-24T10:59:09.444965Z"
    }
   },
   "outputs": [
    {
     "name": "stdout",
     "output_type": "stream",
     "text": [
      "Accuracy of validation set over learning rate increment\n"
     ]
    },
    {
     "data": {
      "text/plain": [
       "Text(0.5, 1.0, 'Validation set')"
      ]
     },
     "execution_count": 50,
     "metadata": {},
     "output_type": "execute_result"
    },
    {
     "data": {
      "image/png": "[encoded data removed]",
      "text/plain": [
       "<Figure size 432x288 with 1 Axes>"
      ]
     },
     "metadata": {
      "needs_background": "light"
     },
     "output_type": "display_data"
    }
   ],
   "source": [
    "print('Accuracy of validation set over learning rate increment')\n",
    "fig_validation = plt.figure()\n",
    "fig_validation = plt.scatter(learning_rates, validation_list_count_v)\n",
    "x_new = np.linspace(min(learning_rates), max(learning_rates),500)\n",
    "f = interp1d(learning_rates, validation_list_count_v, kind='quadratic')\n",
    "y_smooth=f(x_new)\n",
    "plt.plot (x_new, y_smooth)\n",
    "plt.scatter (learning_rates, validation_list_count_v)\n",
    "plt.xlabel('Learning Rate')\n",
    "plt.ylabel('Value')\n",
    "plt.title('Validation set')"
   ]
  },
  {
   "cell_type": "markdown",
   "metadata": {},
   "source": [
    "## GRID_SEARCH n_estimator and learning_rate (TF-IDF transformation in GBC model)"
   ]
  },
  {
   "cell_type": "code",
   "execution_count": 51,
   "metadata": {
    "ExecuteTime": {
     "end_time": "2021-02-24T10:59:26.383246Z",
     "start_time": "2021-02-24T10:59:25.303646Z"
    }
   },
   "outputs": [],
   "source": [
    "training_list_tf_idf = []\n",
    "test_list_tf_idf = []\n",
    "validation_list_tf_idf = []\n",
    "learning_rates = [0.05, 0.1, 0.2, 0.25, 0.3, 0.4, 0.5, 0.6, 0.7, 0.75, 0.8, 0.9, 1]\n",
    "for learning_rate in learning_rates:\n",
    "    gb = GradientBoostingClassifier(n_estimators=100, learning_rate=learning_rate, \n",
    "                                    max_features=4, max_depth=2, random_state=0)\n",
    "    gb.fit(X_train_tf_idf, y_train_tf_idf)\n",
    "    #print(\"Learning rate: \", learning_rate)\n",
    "    #print(\"Accuracy score (training): {0:.3f}\".format(gb.score(X_train_tf_idf, y_train_tf_idf)))\n",
    "    training_list_tf_idf.append(gb.score(X_train_tf_idf, y_train_tf_idf))\n",
    "    #print(\"Accuracy score (test): {0:.3f}\".format(gb.score(X_test_tf_idf, y_test_tf_idf)))\n",
    "    test_list_tf_idf.append(gb.score(X_test_tf_idf, y_test_tf_idf))\n",
    "    #print(\"Accuracy score (validation): {0:.3f}\".format(gb.score(X_validation_sub_tf_idf, y_validation_sub_tf_idf)))\n",
    "    validation_list_tf_idf.append(gb.score(X_validation_sub_tf_idf, y_validation_sub_tf_idf))\n",
    "    #print()"
   ]
  },
  {
   "cell_type": "markdown",
   "metadata": {},
   "source": [
    "## Plotting"
   ]
  },
  {
   "cell_type": "code",
   "execution_count": 52,
   "metadata": {
    "ExecuteTime": {
     "end_time": "2021-02-24T10:59:27.840872Z",
     "start_time": "2021-02-24T10:59:27.666380Z"
    }
   },
   "outputs": [
    {
     "name": "stdout",
     "output_type": "stream",
     "text": [
      "Accuracy of training set over learning rate increment\n"
     ]
    },
    {
     "data": {
      "text/plain": [
       "Text(0.5, 1.0, 'Training set')"
      ]
     },
     "execution_count": 52,
     "metadata": {},
     "output_type": "execute_result"
    },
    {
     "data": {
      "image/png": "[encoded data removed]",
      "text/plain": [
       "<Figure size 432x288 with 1 Axes>"
      ]
     },
     "metadata": {
      "needs_background": "light"
     },
     "output_type": "display_data"
    }
   ],
   "source": [
    "print('Accuracy of training set over learning rate increment')\n",
    "fig_training = plt.figure()\n",
    "fig_training = plt.scatter(learning_rates, training_list_tf_idf)\n",
    "x_new = np.linspace(min(learning_rates), max(learning_rates),500)\n",
    "f = interp1d(learning_rates, training_list_tf_idf, kind='quadratic')\n",
    "y_smooth=f(x_new)\n",
    "plt.plot (x_new, y_smooth)\n",
    "plt.scatter (learning_rates, training_list_tf_idf)\n",
    "plt.xlabel('Learning Rate')\n",
    "plt.ylabel('Value')\n",
    "plt.title('Training set')"
   ]
  },
  {
   "cell_type": "code",
   "execution_count": 53,
   "metadata": {
    "ExecuteTime": {
     "end_time": "2021-02-24T10:59:29.721039Z",
     "start_time": "2021-02-24T10:59:29.544734Z"
    }
   },
   "outputs": [
    {
     "name": "stdout",
     "output_type": "stream",
     "text": [
      "Accuracy of test set over learning rate increment\n"
     ]
    },
    {
     "data": {
      "text/plain": [
       "Text(0.5, 1.0, 'Test set')"
      ]
     },
     "execution_count": 53,
     "metadata": {},
     "output_type": "execute_result"
    },
    {
     "data": {
      "image/png": "[encoded data removed]",
      "text/plain": [
       "<Figure size 432x288 with 1 Axes>"
      ]
     },
     "metadata": {
      "needs_background": "light"
     },
     "output_type": "display_data"
    }
   ],
   "source": [
    "print('Accuracy of test set over learning rate increment')\n",
    "fig_test = plt.figure()\n",
    "fig_test = plt.scatter(learning_rates, test_list_tf_idf)\n",
    "x_new = np.linspace(min(learning_rates), max(learning_rates),500)\n",
    "f = interp1d(learning_rates, test_list_tf_idf, kind='quadratic')\n",
    "y_smooth=f(x_new)\n",
    "plt.plot (x_new, y_smooth)\n",
    "plt.scatter (learning_rates, test_list_tf_idf)\n",
    "plt.xlabel('Learning Rate')\n",
    "plt.ylabel('Value')\n",
    "plt.title('Test set')"
   ]
  },
  {
   "cell_type": "code",
   "execution_count": 54,
   "metadata": {
    "ExecuteTime": {
     "end_time": "2021-02-24T10:59:31.067119Z",
     "start_time": "2021-02-24T10:59:30.878397Z"
    }
   },
   "outputs": [
    {
     "name": "stdout",
     "output_type": "stream",
     "text": [
      "Accuracy of validation set over learning rate increment\n"
     ]
    },
    {
     "data": {
      "text/plain": [
       "Text(0.5, 1.0, 'Validation set')"
      ]
     },
     "execution_count": 54,
     "metadata": {},
     "output_type": "execute_result"
    },
    {
     "data": {
      "image/png": "[encoded data removed]",
      "text/plain": [
       "<Figure size 432x288 with 1 Axes>"
      ]
     },
     "metadata": {
      "needs_background": "light"
     },
     "output_type": "display_data"
    }
   ],
   "source": [
    "print('Accuracy of validation set over learning rate increment')\n",
    "fig_validation = plt.figure()\n",
    "fig_validation = plt.scatter(learning_rates, validation_list_tf_idf)\n",
    "x_new = np.linspace(min(learning_rates), max(learning_rates),500)\n",
    "f = interp1d(learning_rates, validation_list_tf_idf, kind='quadratic')\n",
    "y_smooth=f(x_new)\n",
    "plt.plot (x_new, y_smooth)\n",
    "plt.scatter (learning_rates, validation_list_tf_idf)\n",
    "plt.xlabel('Learning Rate')\n",
    "plt.ylabel('Value')\n",
    "plt.title('Validation set')"
   ]
  },
  {
   "cell_type": "markdown",
   "metadata": {},
   "source": [
    "## Grid Search for GBC with Count Vectorized"
   ]
  },
  {
   "cell_type": "code",
   "execution_count": 55,
   "metadata": {
    "ExecuteTime": {
     "end_time": "2021-02-24T10:59:50.146793Z",
     "start_time": "2021-02-24T10:59:49.410113Z"
    }
   },
   "outputs": [
    {
     "name": "stdout",
     "output_type": "stream",
     "text": [
      "GradientBoostingClassifier(ccp_alpha=0.0, criterion='friedman_mse', init=None,\n",
      "                           learning_rate=0.05, loss='deviance', max_depth=5,\n",
      "                           max_features=4, max_leaf_nodes=None,\n",
      "                           min_impurity_decrease=0.0, min_impurity_split=None,\n",
      "                           min_samples_leaf=1, min_samples_split=2,\n",
      "                           min_weight_fraction_leaf=0.0, n_estimators=500,\n",
      "                           n_iter_no_change=None, presort='auto',\n",
      "                           random_state=0, subsample=1.0, tol=0.0001,\n",
      "                           validation_fraction=0.1, verbose=0,\n",
      "                           warm_start=False)\n"
     ]
    },
    {
     "name": "stderr",
     "output_type": "stream",
     "text": [
      "/Users/pieroromare/opt/anaconda3/lib/python3.7/site-packages/sklearn/ensemble/_gb.py:1342: FutureWarning: The parameter 'presort' is deprecated and has no effect. It will be removed in v0.24. You can suppress this warning by not passing any value to the 'presort' parameter. We also recommend using HistGradientBoosting models instead.\n",
      "  FutureWarning)\n"
     ]
    },
    {
     "name": "stdout",
     "output_type": "stream",
     "text": [
      "Accuracy score (training): 0.994\n",
      "Accuracy score (test): 0.869\n",
      "Accuracy score (validation): 0.866\n"
     ]
    }
   ],
   "source": [
    "'''\n",
    "grid = {'learning_rate':[0.05, 0.1, 0.2, 0.3, 0.4, 0.5, 0.6, 0.7, 0.8, 0.9, 1],\n",
    "        'n_estimators':[100, 500, 1000, 1500],\n",
    "        'max_depth':[2, 3, 4, 5],\n",
    "        'max_features':['sqrt', 'log2', 'auto', 2, 4, 5, 8]\n",
    "       }\n",
    "t0 = time()\n",
    "gs = GridSearchCV(estimator = GradientBoostingClassifier(random_state=0),\n",
    "                      param_grid = grid, scoring='accuracy', n_jobs=4, iid=False, cv=10)\n",
    "\n",
    "gs.fit(X_train_count_v, y_train_count_v)\n",
    "research_time = time() - t0\n",
    "print(research_time)\n",
    "model_count_v = gs.best_estimator_\n",
    "'''\n",
    "###################################################################\n",
    "#cv=4\n",
    "#776.1262147426605\n",
    "#GradientBoostingClassifier(criterion='friedman_mse', init=None,\n",
    "#              learning_rate=0.05, loss='deviance', max_depth=3,\n",
    "#              max_features=2, max_leaf_nodes=None,\n",
    "#              min_impurity_decrease=0.0, min_impurity_split=None,\n",
    "#              min_samples_leaf=1, min_samples_split=2,\n",
    "#              min_weight_fraction_leaf=0.0, n_estimators=1500,\n",
    "#              n_iter_no_change=None, presort='auto', random_state=42,\n",
    "#             subsample=1.0, tol=0.0001, validation_fraction=0.1,\n",
    "#              verbose=0, warm_start=False)\n",
    "#Accuracy score (training): 0.991\n",
    "#Accuracy score (test): 0.859\n",
    "#Accuracy score (validation): 0.850\n",
    "###################################################################\n",
    "#cv=10\n",
    "#2316.2197308540344\n",
    "#GradientBoostingClassifier(criterion='friedman_mse', init=None,\n",
    "#              learning_rate=0.05, loss='deviance', max_depth=5,\n",
    "#              max_features=4, max_leaf_nodes=None,\n",
    "#              min_impurity_decrease=0.0, min_impurity_split=None,\n",
    "#              min_samples_leaf=1, min_samples_split=2,\n",
    "#              min_weight_fraction_leaf=0.0, n_estimators=500,\n",
    "#              n_iter_no_change=None, presort='auto', random_state=0,\n",
    "#              subsample=1.0, tol=0.0001, validation_fraction=0.1,\n",
    "#              verbose=0, warm_start=False)\n",
    "#Accuracy score (training): 0.994\n",
    "#Accuracy score (test): 0.869\n",
    "#Accuracy score (validation): 0.866\n",
    "###################################################################\n",
    "\n",
    "gs_best_estimator = GradientBoostingClassifier(criterion='friedman_mse', init=None,\n",
    "              learning_rate=0.05, loss='deviance', max_depth=5,\n",
    "              max_features=4, max_leaf_nodes=None,\n",
    "              min_impurity_decrease=0.0, min_impurity_split=None,\n",
    "              min_samples_leaf=1, min_samples_split=2,\n",
    "              min_weight_fraction_leaf=0.0, n_estimators=500,\n",
    "              n_iter_no_change=None, presort='auto', random_state=0,\n",
    "              subsample=1.0, tol=0.0001, validation_fraction=0.1,\n",
    "              verbose=0, warm_start=False)\n",
    "\n",
    "model_count_v = gs_best_estimator\n",
    "print(model_count_v)\n",
    "model_count_v.fit(X_train_count_v, y_train_count_v)\n",
    "print(\"Accuracy score (training): {0:.3f}\".format(model_count_v.score(X_train_count_v, \n",
    "                                                                      y_train_count_v)))\n",
    "print(\"Accuracy score (test): {0:.3f}\".format(model_count_v.score(X_test_count_v, \n",
    "                                                                  y_test_count_v)))\n",
    "print(\"Accuracy score (validation): {0:.3f}\".format(model_count_v.score(X_validation_sub_count_v, \n",
    "                                                                        y_validation_sub_count_v)))\n",
    "\n",
    "list_count_v_score = []\n",
    "list_count_v_score.append(model_count_v.score(X_train_count_v, y_train_count_v))\n",
    "list_count_v_score.append(model_count_v.score(X_test_count_v, y_test_count_v))\n",
    "list_count_v_score.append(model_count_v.score(X_validation_sub_count_v, y_validation_sub_count_v))"
   ]
  },
  {
   "cell_type": "markdown",
   "metadata": {},
   "source": [
    "## Grid Search for GBC with TF-IDF"
   ]
  },
  {
   "cell_type": "code",
   "execution_count": 56,
   "metadata": {
    "ExecuteTime": {
     "end_time": "2021-02-24T10:59:55.688063Z",
     "start_time": "2021-02-24T10:59:55.005088Z"
    }
   },
   "outputs": [
    {
     "name": "stdout",
     "output_type": "stream",
     "text": [
      "GradientBoostingClassifier(ccp_alpha=0.0, criterion='friedman_mse', init=None,\n",
      "                           learning_rate=0.05, loss='deviance', max_depth=5,\n",
      "                           max_features=4, max_leaf_nodes=None,\n",
      "                           min_impurity_decrease=0.0, min_impurity_split=None,\n",
      "                           min_samples_leaf=1, min_samples_split=2,\n",
      "                           min_weight_fraction_leaf=0.0, n_estimators=500,\n",
      "                           n_iter_no_change=None, presort='auto',\n",
      "                           random_state=0, subsample=1.0, tol=0.0001,\n",
      "                           validation_fraction=0.1, verbose=0,\n",
      "                           warm_start=False)\n"
     ]
    },
    {
     "name": "stderr",
     "output_type": "stream",
     "text": [
      "/Users/pieroromare/opt/anaconda3/lib/python3.7/site-packages/sklearn/ensemble/_gb.py:1342: FutureWarning: The parameter 'presort' is deprecated and has no effect. It will be removed in v0.24. You can suppress this warning by not passing any value to the 'presort' parameter. We also recommend using HistGradientBoosting models instead.\n",
      "  FutureWarning)\n"
     ]
    },
    {
     "name": "stdout",
     "output_type": "stream",
     "text": [
      "Accuracy score (training): 1.000\n",
      "Accuracy score (test): 0.844\n",
      "Accuracy score (validation): 0.850\n"
     ]
    }
   ],
   "source": [
    "'''\n",
    "grid = {'learning_rate':[0.05, 0.1, 0.2, 0.3, 0.4, 0.5, 0.6, 0.7, 0.8, 0.9, 1],\n",
    "        'n_estimators':[100, 500, 1000, 1500],\n",
    "        'max_depth':[2, 3, 4, 5],\n",
    "        'max_features':['sqrt', 'log2', 'auto', 2, 4, 5, 8]\n",
    "       }\n",
    "t0 = time()\n",
    "gs = GridSearchCV(estimator = GradientBoostingClassifier(random_state=0),\n",
    "                      param_grid = grid, scoring='accuracy', n_jobs=4, iid=False, cv=10)\n",
    "\n",
    "gs.fit(X_train_tf_idf, y_train_tf_idf)\n",
    "research_time = time() - t0\n",
    "print(research_time)\n",
    "model_tf_idf = gs.best_estimator_\n",
    "'''\n",
    "###################################################################\n",
    "#cv=4\n",
    "#985.9960541725159\n",
    "#GradientBoostingClassifier(criterion='friedman_mse', init=None,\n",
    "#              learning_rate=0.05, loss='deviance', max_depth=3,\n",
    "#              max_features=5, max_leaf_nodes=None,\n",
    "#              min_impurity_decrease=0.0, min_impurity_split=None,\n",
    "#              min_samples_leaf=1, min_samples_split=2,\n",
    "#              min_weight_fraction_leaf=0.0, n_estimators=500,\n",
    "#              n_iter_no_change=None, presort='auto', random_state=42,\n",
    "#              subsample=1.0, tol=0.0001, validation_fraction=0.1,\n",
    "#              verbose=0, warm_start=False)\n",
    "#Accuracy score (training): 0.997\n",
    "#Accuracy score (test): 0.847\n",
    "#Accuracy score (validation): 0.853\n",
    "###################################################################\n",
    "#cv=10\n",
    "#3022.400599002838\n",
    "#GradientBoostingClassifier(criterion='friedman_mse', init=None,\n",
    "#              learning_rate=0.05, loss='deviance', max_depth=5,\n",
    "#              max_features=4, max_leaf_nodes=None,\n",
    "#              min_impurity_decrease=0.0, min_impurity_split=None,\n",
    "#              min_samples_leaf=1, min_samples_split=2,\n",
    "#              min_weight_fraction_leaf=0.0, n_estimators=500,\n",
    "#              n_iter_no_change=None, presort='auto', random_state=0,\n",
    "#              subsample=1.0, tol=0.0001, validation_fraction=0.1,\n",
    "#              verbose=0, warm_start=False)\n",
    "#Accuracy score (training): 1.000\n",
    "#Accuracy score (test): 0.844\n",
    "#Accuracy score (validation): 0.850\n",
    "###################################################################\n",
    "\n",
    "\n",
    "gs_best_estimator = GradientBoostingClassifier(criterion='friedman_mse', init=None,\n",
    "              learning_rate=0.05, loss='deviance', max_depth=5,\n",
    "              max_features=4, max_leaf_nodes=None,\n",
    "              min_impurity_decrease=0.0, min_impurity_split=None,\n",
    "              min_samples_leaf=1, min_samples_split=2,\n",
    "              min_weight_fraction_leaf=0.0, n_estimators=500,\n",
    "              n_iter_no_change=None, presort='auto', random_state=0,\n",
    "              subsample=1.0, tol=0.0001, validation_fraction=0.1,\n",
    "              verbose=0, warm_start=False)\n",
    "\n",
    "model_tf_idf = gs_best_estimator\n",
    "print(model_tf_idf)\n",
    "model_tf_idf.fit(X_train_tf_idf, y_train_tf_idf)\n",
    "print(\"Accuracy score (training): {0:.3f}\".format(model_tf_idf.score(X_train_tf_idf, \n",
    "                                                                     y_train_tf_idf)))\n",
    "print(\"Accuracy score (test): {0:.3f}\".format(model_tf_idf.score(X_test_tf_idf, \n",
    "                                                                 y_test_tf_idf)))\n",
    "print(\"Accuracy score (validation): {0:.3f}\".format(model_tf_idf.score(X_validation_sub_tf_idf, \n",
    "                                                                       y_validation_sub_tf_idf)))\n",
    "\n",
    "list_tf_idf_score = []\n",
    "list_tf_idf_score.append(model_tf_idf.score(X_train_tf_idf, y_train_tf_idf))\n",
    "list_tf_idf_score.append(model_tf_idf.score(X_test_tf_idf, y_test_tf_idf))\n",
    "list_tf_idf_score.append(model_tf_idf.score(X_validation_sub_tf_idf, y_validation_sub_tf_idf))"
   ]
  },
  {
   "cell_type": "markdown",
   "metadata": {},
   "source": [
    "## Difference in the accuracy of GBC with different text transformation"
   ]
  },
  {
   "cell_type": "code",
   "execution_count": 57,
   "metadata": {
    "ExecuteTime": {
     "end_time": "2021-02-24T10:59:59.055604Z",
     "start_time": "2021-02-24T10:59:58.900489Z"
    }
   },
   "outputs": [
    {
     "data": {
      "image/png": "[encoded data removed]",
      "text/plain": [
       "<Figure size 432x288 with 1 Axes>"
      ]
     },
     "metadata": {
      "needs_background": "light"
     },
     "output_type": "display_data"
    },
    {
     "name": "stdout",
     "output_type": "stream",
     "text": [
      "Count Vectorized: training set 0.99375 , test set 0.86875 , validation set 0.865625\n",
      "TF-IDF: training set 1.0 , test set 0.84375 , validation set 0.85\n"
     ]
    }
   ],
   "source": [
    "barWidth = 0.3\n",
    "bars1 = [value for value in list_count_v_score]\n",
    "bars2 = [value for value in list_tf_idf_score]\n",
    "r1 = np.arange(len(bars1))\n",
    "r2 = [x + barWidth for x in r1]\n",
    "plt.bar(r1, bars1, width = barWidth, color = 'blue', edgecolor = 'black', capsize=10, label='Count Vectorized')\n",
    "plt.bar(r2, bars2, width = barWidth, color = 'cyan', edgecolor = 'black', capsize=10, label='TF-IDF')\n",
    "plt.xticks([r + barWidth for r in range(len(bars1))], ['training set', 'test set', 'validation set'])\n",
    "plt.ylabel('accuracy')\n",
    "plt.legend()\n",
    "plt.show()\n",
    "print('Count Vectorized: training set', bars1[0], ', test set', bars1[1], ', validation set', bars1[2])\n",
    "print('TF-IDF: training set', bars2[0], ', test set', bars2[1], ', validation set', bars2[2])"
   ]
  },
  {
   "cell_type": "markdown",
   "metadata": {},
   "source": [
    "## Error"
   ]
  },
  {
   "cell_type": "code",
   "execution_count": 65,
   "metadata": {
    "ExecuteTime": {
     "end_time": "2021-02-24T11:50:19.159578Z",
     "start_time": "2021-02-24T11:50:19.157075Z"
    }
   },
   "outputs": [],
   "source": [
    "#mse_count_v = mean_squared_error(y_test_count_v, model_count_v.predict(X_test_count_v))\n",
    "#print(\"MSE Count Vectorized: %.4f\" % mse_count_v)\n",
    "#print()\n",
    "#mse_tf_idf = mean_squared_error(y_test_tf_idf, model_tf_idf.predict(X_test_tf_idf))\n",
    "#print(\"MSE TF-IDF: %.4f\" % mse_tf_idf)"
   ]
  },
  {
   "cell_type": "markdown",
   "metadata": {},
   "source": [
    "## Confusion matrix"
   ]
  },
  {
   "cell_type": "code",
   "execution_count": 59,
   "metadata": {
    "ExecuteTime": {
     "end_time": "2021-02-24T11:00:33.391532Z",
     "start_time": "2021-02-24T11:00:33.345682Z"
    }
   },
   "outputs": [
    {
     "name": "stdout",
     "output_type": "stream",
     "text": [
      "Confusion Matrix Count Vectorized:\n",
      "[[272  36]\n",
      " [ 48 284]]\n",
      "\n",
      "Classification Report Count Vectorized\n",
      "              precision    recall  f1-score   support\n",
      "\n",
      "       False       0.85      0.88      0.87       308\n",
      "        True       0.89      0.86      0.87       332\n",
      "\n",
      "    accuracy                           0.87       640\n",
      "   macro avg       0.87      0.87      0.87       640\n",
      "weighted avg       0.87      0.87      0.87       640\n",
      "\n",
      "\n",
      "Confusion Matrix TF-IDF:\n",
      "[[270  38]\n",
      " [ 62 270]]\n",
      "\n",
      "Classification Report TF-IDF\n",
      "              precision    recall  f1-score   support\n",
      "\n",
      "       False       0.81      0.88      0.84       308\n",
      "        True       0.88      0.81      0.84       332\n",
      "\n",
      "    accuracy                           0.84       640\n",
      "   macro avg       0.84      0.84      0.84       640\n",
      "weighted avg       0.85      0.84      0.84       640\n",
      "\n"
     ]
    }
   ],
   "source": [
    "predictions_count_v = model_count_v.predict(X_test_count_v)\n",
    "print(\"Confusion Matrix Count Vectorized:\")\n",
    "print(confusion_matrix(y_test_count_v, predictions_count_v))\n",
    "print()\n",
    "print(\"Classification Report Count Vectorized\")\n",
    "print(classification_report(y_test_count_v, predictions_count_v))\n",
    "print()\n",
    "predictions_tf_idf = model_tf_idf.predict(X_test_tf_idf)\n",
    "print(\"Confusion Matrix TF-IDF:\")\n",
    "print(confusion_matrix(y_test_tf_idf, predictions_tf_idf))\n",
    "print()\n",
    "print(\"Classification Report TF-IDF\")\n",
    "print(classification_report(y_test_tf_idf, predictions_tf_idf))"
   ]
  },
  {
   "cell_type": "markdown",
   "metadata": {},
   "source": [
    "## ROC Curve"
   ]
  },
  {
   "cell_type": "code",
   "execution_count": 62,
   "metadata": {
    "ExecuteTime": {
     "end_time": "2021-02-24T11:02:05.570416Z",
     "start_time": "2021-02-24T11:02:04.902726Z"
    }
   },
   "outputs": [
    {
     "name": "stdout",
     "output_type": "stream",
     "text": [
      "Area under ROC curve Count Vectorized = 0.95\n",
      "\n",
      "Area under ROC curve TF-IDF = 0.93\n"
     ]
    },
    {
     "data": {
      "image/png": "[encoded data removed]",
      "text/plain": [
       "<Figure size 1440x432 with 1 Axes>"
      ]
     },
     "metadata": {
      "needs_background": "light"
     },
     "output_type": "display_data"
    },
    {
     "data": {
      "image/png": "[encoded data removed]",
      "text/plain": [
       "<Figure size 1440x432 with 1 Axes>"
      ]
     },
     "metadata": {
      "needs_background": "light"
     },
     "output_type": "display_data"
    }
   ],
   "source": [
    "y_scores_model_count_v = model_count_v.predict_proba(X_test_count_v) [:, 1]\n",
    "fpr_model_count_v, tpr_model_count_v, _ = roc_curve(y_test_count_v, y_scores_model_count_v)\n",
    "roc_auc_model_count_v = auc(fpr_model_count_v, tpr_model_count_v)\n",
    "print(\"Area under ROC curve Count Vectorized = {:0.2f}\".format(roc_auc_model_count_v))\n",
    "plot_roc_curve(y_test_count_v, y_scores_model_count_v, label='ROC Curve GBC Count Vectorized')\n",
    "\n",
    "print()\n",
    "\n",
    "y_scores_model_tf_idf = model_tf_idf.predict_proba(X_test_tf_idf) [:, 1]\n",
    "fpr_model_tf_idf, tpr_model_tf_idf, _ = roc_curve(y_test_tf_idf, y_scores_model_tf_idf)\n",
    "roc_auc_model_tf_idf = auc(fpr_model_tf_idf, tpr_model_tf_idf)\n",
    "print(\"Area under ROC curve TF-IDF = {:0.2f}\".format(roc_auc_model_tf_idf))\n",
    "plot_roc_curve(y_test_tf_idf, y_scores_model_tf_idf, label='ROC Curve GBC TF-IDF')"
   ]
  }
 ],
 "metadata": {
  "kernelspec": {
   "display_name": "Python 3",
   "language": "python",
   "name": "python3"
  },
  "language_info": {
   "codemirror_mode": {
    "name": "ipython",
    "version": 3
   },
   "file_extension": ".py",
   "mimetype": "text/x-python",
   "name": "python",
   "nbconvert_exporter": "python",
   "pygments_lexer": "ipython3",
   "version": "3.7.6"
  },
  "latex_envs": {
   "LaTeX_envs_menu_present": true,
   "autoclose": false,
   "autocomplete": true,
   "bibliofile": "biblio.bib",
   "cite_by": "apalike",
   "current_citInitial": 1,
   "eqLabelWithNumbers": true,
   "eqNumInitial": 1,
   "hotkeys": {
    "equation": "Ctrl-E",
    "itemize": "Ctrl-I"
   },
   "labels_anchors": false,
   "latex_user_defs": false,
   "report_style_numbering": false,
   "user_envs_cfg": false
  },
  "varInspector": {
   "cols": {
    "lenName": 16,
    "lenType": 16,
    "lenVar": 40
   },
   "kernels_config": {
    "python": {
     "delete_cmd_postfix": "",
     "delete_cmd_prefix": "del ",
     "library": "var_list.py",
     "varRefreshCmd": "print(var_dic_list())"
    },
    "r": {
     "delete_cmd_postfix": ") ",
     "delete_cmd_prefix": "rm(",
     "library": "var_list.r",
     "varRefreshCmd": "cat(var_dic_list()) "
    }
   },
   "types_to_exclude": [
    "module",
    "function",
    "builtin_function_or_method",
    "instance",
    "_Feature"
   ],
   "window_display": false
  }
 },
 "nbformat": 4,
 "nbformat_minor": 2
}
